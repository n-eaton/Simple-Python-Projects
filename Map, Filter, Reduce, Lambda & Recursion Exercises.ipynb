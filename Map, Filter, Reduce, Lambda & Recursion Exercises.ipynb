{
 "cells": [
  {
   "cell_type": "markdown",
   "id": "d0616ffa",
   "metadata": {},
   "source": [
    "### Exercise #1 <br>\n",
    "<p>Filter out all of the empty strings from the list below</p>"
   ]
  },
  {
   "cell_type": "code",
   "execution_count": null,
   "id": "ecb0fd78",
   "metadata": {},
   "outputs": [],
   "source": [
    "\n",
    "places = [' ', 'Argentina', '  ', 'San Diego', '', '   ', '', 'Boston', 'New York']\n",
    "# = [Argentina, San Diego, Boston, New York]    "
   ]
  },
  {
   "cell_type": "code",
   "execution_count": 1,
   "id": "5dcc1a12",
   "metadata": {},
   "outputs": [
    {
     "name": "stdout",
     "output_type": "stream",
     "text": [
      "['Argentina', 'San Diego', 'Boston', 'New York']\n"
     ]
    }
   ],
   "source": [
    "#Comprehention Lists\n",
    "places = [' ', 'Argentina', '  ', 'San Diego', '', '   ', '', 'Boston', 'New York']\n",
    "better_list = [i for i in places  if i.strip()]\n",
    "print(better_list)"
   ]
  },
  {
   "cell_type": "code",
   "execution_count": 2,
   "id": "8ebd7167",
   "metadata": {},
   "outputs": [
    {
     "name": "stdout",
     "output_type": "stream",
     "text": [
      "['Argentina', 'San Diego', 'Boston', 'New York']\n"
     ]
    }
   ],
   "source": [
    "#Lambda\n",
    "places = [' ', 'Argentina', '  ', 'San Diego', '', '   ', '', 'Boston', 'New York']\n",
    "better_list = list(filter(lambda x : len(x)> 4 , places))\n",
    "print(better_list)"
   ]
  },
  {
   "cell_type": "markdown",
   "id": "22022eef",
   "metadata": {},
   "source": [
    "### Exercise #2 <br>\n",
    "<p>Write an anonymous function that sorts this list by the last name...<br><b>Hint: Use the \".sort()\" method and access the key\"</b></p>"
   ]
  },
  {
   "cell_type": "code",
   "execution_count": 15,
   "id": "90f02484",
   "metadata": {},
   "outputs": [
    {
     "name": "stdout",
     "output_type": "stream",
     "text": [
      "['Anisimov', 'Garfield', 'Hasselhoff', 'Milliken', 'Winfrey']\n"
     ]
    }
   ],
   "source": [
    "authors = [\"Connor Milliken\", \"Victor aNisimov\", \"Andrew P. Garfield\", \"David HassELHOFF\", \"Oprah wInfrey\"]\n",
    "a_lower = list(map(str.lower,authors))\n",
    "a_title = list(map(str.title,a_lower))\n",
    "lastname = []\n",
    "for i in range(0,len(a_title)):\n",
    "    lastname.append(a_title[i].split()[-1])\n",
    "print(sorted(lastname))"
   ]
  },
  {
   "cell_type": "markdown",
   "id": "441b9c3b",
   "metadata": {},
   "source": [
    "### Exercise #3 <br>\n",
    "<p>Convert the list below from Celsius to Farhenheit, using the map function with a lambda...</p>"
   ]
  },
  {
   "cell_type": "code",
   "execution_count": 33,
   "id": "3cf8d17f",
   "metadata": {},
   "outputs": [
    {
     "name": "stdout",
     "output_type": "stream",
     "text": [
      "[32, 12, 44, 29]\n",
      "[89.6, 53.6, 111.2, 84.2]\n",
      "['Nassau', 'Boston', 'Los Angeles', 'Miami']\n",
      "('Nassau', 89.6)\n",
      "('Boston', 53.6)\n",
      "('Los Angeles', 111.2)\n",
      "('Miami', 84.2)\n"
     ]
    }
   ],
   "source": [
    "places = [('Nassau', 32), ('Boston', 12), ('Los Angeles', 44), ('Miami', 29)]\n",
    "\n",
    "# F = (1.8*C)+32 \n",
    "temps = [item[1] for item in places]\n",
    "print(temps)\n",
    "f =list(map(lambda x : (1.8*x) + 32, temps))\n",
    "print (f)\n",
    "places_1 = [item[0] for item in places]\n",
    "print(places_1)\n",
    "\n",
    "import itertools\n",
    "for i in zip(['Nassau', 'Boston', 'Los Angeles', 'Miami'], [89.6, 53.6, 111.2, 84.2]):\n",
    "    print (i)"
   ]
  },
  {
   "cell_type": "code",
   "execution_count": 39,
   "id": "4af20e3f",
   "metadata": {},
   "outputs": [
    {
     "name": "stdout",
     "output_type": "stream",
     "text": [
      "[('Boston', 12), ('Miami', 29), ('Nassau', 32), ('Los Angeles', 44)]\n"
     ]
    }
   ],
   "source": [
    "places = [('Nassau', 32), ('Boston', 12), ('Los Angeles', 44), ('Miami', 29)]\n",
    "y1 = sorted(places, key=lambda x: int((9/5)*x[1] + 32))\n",
    "print(y1)"
   ]
  },
  {
   "cell_type": "markdown",
   "id": "3b6c48c4",
   "metadata": {},
   "source": [
    "### Exercise #4 <br>\n",
    "<p>Write a recursive function to perform the fibonacci sequence up to the number passed in.</p>"
   ]
  },
  {
   "cell_type": "code",
   "execution_count": 19,
   "id": "ba8aa5f5",
   "metadata": {},
   "outputs": [
    {
     "name": "stdout",
     "output_type": "stream",
     "text": [
      "Please enter the number of members of the sequence:10\n",
      "The fibonacci sequence:\n",
      "0\n",
      "1\n",
      "1\n",
      "2\n",
      "3\n",
      "5\n",
      "8\n",
      "13\n",
      "21\n",
      "34\n"
     ]
    }
   ],
   "source": [
    "def fibonacci(n):\n",
    "    if (n <= 1):\n",
    "        return n\n",
    "    else:\n",
    "        return (fibonacci(n-1) + fibonacci(n-2))\n",
    "n = int(input(\"Please enter the number of members of the sequence:\"))\n",
    "print(\"The fibonacci sequence:\")\n",
    "for i in range(n):\n",
    "    print(fibonacci(i))"
   ]
  }
 ],
 "metadata": {
  "kernelspec": {
   "display_name": "Python 3 (ipykernel)",
   "language": "python",
   "name": "python3"
  },
  "language_info": {
   "codemirror_mode": {
    "name": "ipython",
    "version": 3
   },
   "file_extension": ".py",
   "mimetype": "text/x-python",
   "name": "python",
   "nbconvert_exporter": "python",
   "pygments_lexer": "ipython3",
   "version": "3.8.12"
  }
 },
 "nbformat": 4,
 "nbformat_minor": 5
}
